{
 "cells": [
  {
   "cell_type": "markdown",
   "metadata": {},
   "source": [
    "# Welcome to the start of your adventure in Agentic AI"
   ]
  },
  {
   "cell_type": "markdown",
   "metadata": {},
   "source": [
    "<table style=\"margin: 0; text-align: left; width:100%\">\n",
    "    <tr>\n",
    "        <td style=\"width: 150px; height: 150px; vertical-align: middle;\">\n",
    "            <img src=\"../assets/stop.png\" width=\"150\" height=\"150\" style=\"display: block;\" />\n",
    "        </td>\n",
    "        <td>\n",
    "            <h2 style=\"color:#ff7800;\">Are you ready for action??</h2>\n",
    "            <span style=\"color:#ff7800;\">Have you completed all the setup steps in the <a href=\"../setup/\">setup</a> folder?<br/>\n",
    "            Have you read the <a href=\"../README.md\">README</a>? Many common questions are answered here!<br/>\n",
    "            Have you checked out the guides in the <a href=\"../guides/01_intro.ipynb\">guides</a> folder?<br/>\n",
    "            Well in that case, you're ready!!\n",
    "            </span>\n",
    "        </td>\n",
    "    </tr>\n",
    "</table>"
   ]
  },
  {
   "cell_type": "markdown",
   "metadata": {},
   "source": [
    "<table style=\"margin: 0; text-align: left; width:100%\">\n",
    "    <tr>\n",
    "        <td style=\"width: 150px; height: 150px; vertical-align: middle;\">\n",
    "            <img src=\"../assets/tools.png\" width=\"150\" height=\"150\" style=\"display: block;\" />\n",
    "        </td>\n",
    "        <td>\n",
    "            <h2 style=\"color:#00bfff;\">This code is a live resource - keep an eye out for my updates</h2>\n",
    "            <span style=\"color:#00bfff;\">I push updates regularly. As people ask questions or have problems, I add more examples and improve explanations. As a result, the code below might not be identical to the videos, as I've added more steps and better comments. Consider this like an interactive book that accompanies the lectures.<br/><br/>\n",
    "            I try to send emails regularly with important updates related to the course. You can find this in the 'Announcements' section of Udemy in the left sidebar. You can also choose to receive my emails via your Notification Settings in Udemy. I'm respectful of your inbox and always try to add value with my emails!\n",
    "            </span>\n",
    "        </td>\n",
    "    </tr>\n",
    "</table>"
   ]
  },
  {
   "cell_type": "markdown",
   "metadata": {},
   "source": [
    "### And please do remember to contact me if I can help\n",
    "\n",
    "And I love to connect: https://www.linkedin.com/in/eddonner/\n",
    "\n",
    "\n",
    "### New to Notebooks like this one? Head over to the guides folder!\n",
    "\n",
    "Just to check you've already added the Python and Jupyter extensions to Cursor, if not already installed:\n",
    "- Open extensions (View >> extensions)\n",
    "- Search for python, and when the results show, click on the ms-python one, and Install it if not already installed\n",
    "- Search for jupyter, and when the results show, click on the Microsoft one, and Install it if not already installed  \n",
    "Then View >> Explorer to bring back the File Explorer.\n",
    "\n",
    "And then:\n",
    "1. Click where it says \"Select Kernel\" near the top right, and select the option called `.venv (Python 3.12.9)` or similar, which should be the first choice or the most prominent choice. You may need to choose \"Python Environments\" first.\n",
    "2. Click in each \"cell\" below, starting with the cell immediately below this text, and press Shift+Enter to run\n",
    "3. Enjoy!\n",
    "\n",
    "After you click \"Select Kernel\", if there is no option like `.venv (Python 3.12.9)` then please do the following:  \n",
    "1. On Mac: From the Cursor menu, choose Settings >> VS Code Settings (NOTE: be sure to select `VSCode Settings` not `Cursor Settings`);  \n",
    "On Windows PC: From the File menu, choose Preferences >> VS Code Settings(NOTE: be sure to select `VSCode Settings` not `Cursor Settings`)  \n",
    "2. In the Settings search bar, type \"venv\"  \n",
    "3. In the field \"Path to folder with a list of Virtual Environments\" put the path to the project root, like C:\\Users\\username\\projects\\agents (on a Windows PC) or /Users/username/projects/agents (on Mac or Linux).  \n",
    "And then try again.\n",
    "\n",
    "Having problems with missing Python versions in that list? Have you ever used Anaconda before? It might be interferring. Quit Cursor, bring up a new command line, and make sure that your Anaconda environment is deactivated:    \n",
    "`conda deactivate`  \n",
    "And if you still have any problems with conda and python versions, it's possible that you will need to run this too:  \n",
    "`conda config --set auto_activate_base false`  \n",
    "and then from within the Agents directory, you should be able to run `uv python list` and see the Python 3.12 version."
   ]
  },
  {
   "cell_type": "code",
   "execution_count": 1,
   "metadata": {},
   "outputs": [],
   "source": [
    "# First let's do an import. If you get an Import Error, double check that your Kernel is correct..\n",
    "\n",
    "from dotenv import load_dotenv\n"
   ]
  },
  {
   "cell_type": "code",
   "execution_count": 2,
   "metadata": {},
   "outputs": [
    {
     "data": {
      "text/plain": [
       "True"
      ]
     },
     "execution_count": 2,
     "metadata": {},
     "output_type": "execute_result"
    }
   ],
   "source": [
    "# Next it's time to load the API keys into environment variables\n",
    "# If this returns false, see the next cell!\n",
    "\n",
    "load_dotenv(override=True)"
   ]
  },
  {
   "cell_type": "markdown",
   "metadata": {},
   "source": [
    "### Wait, did that just output `False`??\n",
    "\n",
    "If so, the most common reason is that you didn't save your `.env` file after adding the key! Be sure to have saved.\n",
    "\n",
    "Also, make sure the `.env` file is named precisely `.env` and is in the project root directory (`agents`)\n",
    "\n",
    "By the way, your `.env` file should have a stop symbol next to it in Cursor on the left, and that's actually a good thing: that's Cursor saying to you, \"hey, I realize this is a file filled with secret information, and I'm not going to send it to an external AI to suggest changes, because your keys should not be shown to anyone else.\""
   ]
  },
  {
   "cell_type": "markdown",
   "metadata": {},
   "source": [
    "<table style=\"margin: 0; text-align: left; width:100%\">\n",
    "    <tr>\n",
    "        <td style=\"width: 150px; height: 150px; vertical-align: middle;\">\n",
    "            <img src=\"../assets/stop.png\" width=\"150\" height=\"150\" style=\"display: block;\" />\n",
    "        </td>\n",
    "        <td>\n",
    "            <h2 style=\"color:#ff7800;\">Final reminders</h2>\n",
    "            <span style=\"color:#ff7800;\">1. If you're not confident about Environment Variables or Web Endpoints / APIs, please read Topics 3 and 5 in this <a href=\"../guides/04_technical_foundations.ipynb\">technical foundations guide</a>.<br/>\n",
    "            2. If you want to use AIs other than OpenAI, like Gemini, DeepSeek or Ollama (free), please see the first section in this <a href=\"../guides/09_ai_apis_and_ollama.ipynb\">AI APIs guide</a>.<br/>\n",
    "            3. If you ever get a Name Error in Python, you can always fix it immediately; see the last section of this <a href=\"../guides/06_python_foundations.ipynb\">Python Foundations guide</a> and follow both tutorials and exercises.<br/>\n",
    "            </span>\n",
    "        </td>\n",
    "    </tr>\n",
    "</table>"
   ]
  },
  {
   "cell_type": "code",
   "execution_count": 3,
   "metadata": {},
   "outputs": [
    {
     "name": "stdout",
     "output_type": "stream",
     "text": [
      "OpenAI API Key exists and begins sk-proj-\n"
     ]
    }
   ],
   "source": [
    "# Check the key - if you're not using OpenAI, check whichever key you're using! Ollama doesn't need a key.\n",
    "\n",
    "import os\n",
    "openai_api_key = os.getenv('OPENAI_API_KEY')\n",
    "\n",
    "if openai_api_key:\n",
    "    print(f\"OpenAI API Key exists and begins {openai_api_key[:8]}\")\n",
    "else:\n",
    "    print(\"OpenAI API Key not set - please head to the troubleshooting guide in the setup folder\")\n",
    "    \n"
   ]
  },
  {
   "cell_type": "code",
   "execution_count": 4,
   "metadata": {},
   "outputs": [],
   "source": [
    "# And now - the all important import statement\n",
    "# If you get an import error - head over to troubleshooting in the Setup folder\n",
    "# Even for other LLM providers like Gemini, you still use this OpenAI import - see Guide 9 for why\n",
    "\n",
    "from openai import OpenAI"
   ]
  },
  {
   "cell_type": "code",
   "execution_count": 5,
   "metadata": {},
   "outputs": [],
   "source": [
    "# And now we'll create an instance of the OpenAI class\n",
    "# If you're not sure what it means to create an instance of a class - head over to the guides folder (guide 6)!\n",
    "# If you get a NameError - head over to the guides folder (guide 6)to learn about NameErrors - always instantly fixable\n",
    "# If you're not using OpenAI, you just need to slightly modify this - precise instructions are in the AI APIs guide (guide 9)\n",
    "\n",
    "openai = OpenAI()"
   ]
  },
  {
   "cell_type": "code",
   "execution_count": 6,
   "metadata": {},
   "outputs": [],
   "source": [
    "# Create a list of messages in the familiar OpenAI format\n",
    "\n",
    "messages = [{\"role\": \"user\", \"content\": \"What is 2+2?\"}]"
   ]
  },
  {
   "cell_type": "code",
   "execution_count": 7,
   "metadata": {},
   "outputs": [
    {
     "name": "stdout",
     "output_type": "stream",
     "text": [
      "2 + 2 equals 4.\n"
     ]
    }
   ],
   "source": [
    "# And now call it! Any problems, head to the troubleshooting guide\n",
    "# This uses GPT 4.1 nano, the incredibly cheap model\n",
    "# The APIs guide (guide 9) has exact instructions for using even cheaper or free alternatives to OpenAI\n",
    "# If you get a NameError, head to the guides folder (guide 6) to learn about NameErrors - always instantly fixable\n",
    "\n",
    "response = openai.chat.completions.create(\n",
    "    model=\"gpt-4.1-nano\",\n",
    "    messages=messages\n",
    ")\n",
    "\n",
    "print(response.choices[0].message.content)\n"
   ]
  },
  {
   "cell_type": "code",
   "execution_count": 8,
   "metadata": {},
   "outputs": [],
   "source": [
    "# And now - let's ask for a question:\n",
    "\n",
    "question = \"Please propose a hard, challenging question to assess someone's IQ. Respond only with the question.\"\n",
    "messages = [{\"role\": \"user\", \"content\": question}]\n"
   ]
  },
  {
   "cell_type": "code",
   "execution_count": 9,
   "metadata": {},
   "outputs": [
    {
     "name": "stdout",
     "output_type": "stream",
     "text": [
      "If two trains start from the same point, one traveling east at 60 mph and the other traveling north at 80 mph, how far apart will they be after 3 hours? Now, if a third train starts from the midpoint between the two trains after 3 hours and travels directly toward the first train at 100 mph, how long will it take for the third train to reach the first train?\n"
     ]
    }
   ],
   "source": [
    "# ask it - this uses GPT 4.1 mini, still cheap but more powerful than nano\n",
    "\n",
    "response = openai.chat.completions.create(\n",
    "    model=\"gpt-4.1-mini\",\n",
    "    messages=messages\n",
    ")\n",
    "\n",
    "question = response.choices[0].message.content\n",
    "\n",
    "print(question)\n"
   ]
  },
  {
   "cell_type": "code",
   "execution_count": 10,
   "metadata": {},
   "outputs": [],
   "source": [
    "# form a new messages list\n",
    "messages = [{\"role\": \"user\", \"content\": question}]\n"
   ]
  },
  {
   "cell_type": "code",
   "execution_count": 11,
   "metadata": {},
   "outputs": [
    {
     "name": "stdout",
     "output_type": "stream",
     "text": [
      "Let's analyze the problem step-by-step.\n",
      "\n",
      "---\n",
      "\n",
      "### Step 1: Find the positions of the first two trains after 3 hours\n",
      "\n",
      "- Train 1 goes **east** at 60 mph.\n",
      "- Train 2 goes **north** at 80 mph.\n",
      "- Both start from the same point.\n",
      "\n",
      "After 3 hours:\n",
      "\n",
      "- Distance traveled by Train 1 (east) = \\( 60 \\text{ mph} \\times 3 \\text{ hr} = 180 \\text{ miles} \\)\n",
      "- Distance traveled by Train 2 (north) = \\( 80 \\text{ mph} \\times 3 \\text{ hr} = 240 \\text{ miles} \\)\n",
      "\n",
      "---\n",
      "\n",
      "### Step 2: Calculate the distance between the two trains after 3 hours\n",
      "\n",
      "Since one is east and the other north, their positions form a right triangle with legs 180 miles and 240 miles.\n",
      "\n",
      "Distance \\( d \\) between them:\n",
      "\n",
      "\\[\n",
      "d = \\sqrt{180^2 + 240^2} = \\sqrt{32400 + 57600} = \\sqrt{90000} = 300 \\text{ miles}\n",
      "\\]\n",
      "\n",
      "---\n",
      "\n",
      "### Step 3: Location of the midpoint between the two trains after 3 hours\n",
      "\n",
      "Midpoint coordinates:\n",
      "\n",
      "- East coordinate: \\( \\frac{180}{2} = 90 \\)\n",
      "- North coordinate: \\( \\frac{240}{2} = 120 \\)\n",
      "\n",
      "Coordinates:\n",
      "\n",
      "- Train 1: (180, 0)\n",
      "- Train 2: (0, 240)\n",
      "- Midpoint between them: (90, 120)\n",
      "\n",
      "---\n",
      "\n",
      "### Step 4: Third train\n",
      "\n",
      "- Starts at midpoint (90, 120)\n",
      "- Travels directly toward Train 1 (180, 0)\n",
      "- Speed: 100 mph\n",
      "\n",
      "Find the distance from midpoint to Train 1:\n",
      "\n",
      "\\[\n",
      "\\text{distance} = \\sqrt{(180 - 90)^2 + (0 - 120)^2} = \\sqrt{90^2 + (-120)^2} = \\sqrt{8100 + 14400} = \\sqrt{22500} = 150 \\text{ miles}\n",
      "\\]\n",
      "\n",
      "---\n",
      "\n",
      "### Step 5: Calculate travel time for the third train\n",
      "\n",
      "\\[\n",
      "\\text{time} = \\frac{\\text{distance}}{\\text{speed}} = \\frac{150 \\text{ miles}}{100 \\text{ mph}} = 1.5 \\text{ hours}\n",
      "\\]\n",
      "\n",
      "---\n",
      "\n",
      "## **Final answers:**\n",
      "\n",
      "- Distance between the first two trains after 3 hours: **300 miles**\n",
      "- Time for third train to reach the first train: **1.5 hours**\n"
     ]
    }
   ],
   "source": [
    "# Ask it again\n",
    "\n",
    "response = openai.chat.completions.create(\n",
    "    model=\"gpt-4.1-mini\",\n",
    "    messages=messages\n",
    ")\n",
    "\n",
    "answer = response.choices[0].message.content\n",
    "print(answer)\n"
   ]
  },
  {
   "cell_type": "code",
   "execution_count": 12,
   "metadata": {},
   "outputs": [
    {
     "data": {
      "text/markdown": [
       "Let's analyze the problem step-by-step.\n",
       "\n",
       "---\n",
       "\n",
       "### Step 1: Find the positions of the first two trains after 3 hours\n",
       "\n",
       "- Train 1 goes **east** at 60 mph.\n",
       "- Train 2 goes **north** at 80 mph.\n",
       "- Both start from the same point.\n",
       "\n",
       "After 3 hours:\n",
       "\n",
       "- Distance traveled by Train 1 (east) = \\( 60 \\text{ mph} \\times 3 \\text{ hr} = 180 \\text{ miles} \\)\n",
       "- Distance traveled by Train 2 (north) = \\( 80 \\text{ mph} \\times 3 \\text{ hr} = 240 \\text{ miles} \\)\n",
       "\n",
       "---\n",
       "\n",
       "### Step 2: Calculate the distance between the two trains after 3 hours\n",
       "\n",
       "Since one is east and the other north, their positions form a right triangle with legs 180 miles and 240 miles.\n",
       "\n",
       "Distance \\( d \\) between them:\n",
       "\n",
       "\\[\n",
       "d = \\sqrt{180^2 + 240^2} = \\sqrt{32400 + 57600} = \\sqrt{90000} = 300 \\text{ miles}\n",
       "\\]\n",
       "\n",
       "---\n",
       "\n",
       "### Step 3: Location of the midpoint between the two trains after 3 hours\n",
       "\n",
       "Midpoint coordinates:\n",
       "\n",
       "- East coordinate: \\( \\frac{180}{2} = 90 \\)\n",
       "- North coordinate: \\( \\frac{240}{2} = 120 \\)\n",
       "\n",
       "Coordinates:\n",
       "\n",
       "- Train 1: (180, 0)\n",
       "- Train 2: (0, 240)\n",
       "- Midpoint between them: (90, 120)\n",
       "\n",
       "---\n",
       "\n",
       "### Step 4: Third train\n",
       "\n",
       "- Starts at midpoint (90, 120)\n",
       "- Travels directly toward Train 1 (180, 0)\n",
       "- Speed: 100 mph\n",
       "\n",
       "Find the distance from midpoint to Train 1:\n",
       "\n",
       "\\[\n",
       "\\text{distance} = \\sqrt{(180 - 90)^2 + (0 - 120)^2} = \\sqrt{90^2 + (-120)^2} = \\sqrt{8100 + 14400} = \\sqrt{22500} = 150 \\text{ miles}\n",
       "\\]\n",
       "\n",
       "---\n",
       "\n",
       "### Step 5: Calculate travel time for the third train\n",
       "\n",
       "\\[\n",
       "\\text{time} = \\frac{\\text{distance}}{\\text{speed}} = \\frac{150 \\text{ miles}}{100 \\text{ mph}} = 1.5 \\text{ hours}\n",
       "\\]\n",
       "\n",
       "---\n",
       "\n",
       "## **Final answers:**\n",
       "\n",
       "- Distance between the first two trains after 3 hours: **300 miles**\n",
       "- Time for third train to reach the first train: **1.5 hours**"
      ],
      "text/plain": [
       "<IPython.core.display.Markdown object>"
      ]
     },
     "metadata": {},
     "output_type": "display_data"
    }
   ],
   "source": [
    "from IPython.display import Markdown, display\n",
    "\n",
    "display(Markdown(answer))\n",
    "\n"
   ]
  },
  {
   "cell_type": "markdown",
   "metadata": {},
   "source": [
    "# Congratulations!\n",
    "\n",
    "That was a small, simple step in the direction of Agentic AI, with your new environment!\n",
    "\n",
    "Next time things get more interesting..."
   ]
  },
  {
   "cell_type": "markdown",
   "metadata": {},
   "source": [
    "<table style=\"margin: 0; text-align: left; width:100%\">\n",
    "    <tr>\n",
    "        <td style=\"width: 150px; height: 150px; vertical-align: middle;\">\n",
    "            <img src=\"../assets/exercise.png\" width=\"150\" height=\"150\" style=\"display: block;\" />\n",
    "        </td>\n",
    "        <td>\n",
    "            <h2 style=\"color:#ff7800;\">Exercise</h2>\n",
    "            <span style=\"color:#ff7800;\">Now try this commercial application:<br/>\n",
    "            First ask the LLM to pick a business area that might be worth exploring for an Agentic AI opportunity.<br/>\n",
    "            Then ask the LLM to present a pain-point in that industry - something challenging that might be ripe for an Agentic solution.<br/>\n",
    "            Finally have 3 third LLM call propose the Agentic AI solution. <br/>\n",
    "            We will cover this at up-coming labs, so don't worry if you're unsure.. just give it a try!\n",
    "            </span>\n",
    "        </td>\n",
    "    </tr>\n",
    "</table>"
   ]
  },
  {
   "cell_type": "code",
   "execution_count": null,
   "metadata": {},
   "outputs": [
    {
     "data": {
      "text/markdown": [
       "One promising business area for an Agentic AI opportunity is **Supply Chain and Logistics Optimization**.\n",
       "\n",
       "### Why Supply Chain and Logistics?\n",
       "- **Complex Decision-Making:** Supply chains involve numerous dynamic variables—demand forecasting, inventory management, transportation routing, and supplier coordination—that require continuous adaptation.\n",
       "- **High Impact:** Enhancing efficiency in these areas directly reduces costs, improves delivery times, and boosts customer satisfaction.\n",
       "- **Data-Rich Environment:** There is abundant real-time data from IoT devices, GPS tracking, market trends, and customer behavior, which an agentic AI can leverage.\n",
       "- **Autonomous Coordination:** An Agentic AI can autonomously negotiate with suppliers, reroute shipments based on disruptions, and optimize inventory levels without human intervention.\n",
       "- **Scalability:** The improvements can be applied from local distribution centers up to global supply networks.\n",
       "\n",
       "### Potential AI Agent Capabilities\n",
       "- Proactive risk assessment and mitigation (e.g., predicting delays or shortages).\n",
       "- Dynamic route planning and real-time rescheduling.\n",
       "- Automated negotiation and contracting with vendors.\n",
       "- Adaptive inventory replenishment based on shifting demand.\n",
       "- Coordination among multiple stakeholders across different regions.\n",
       "\n",
       "### Business Impact\n",
       "- Significant cost savings.\n",
       "- Increased agility and resilience against disruptions.\n",
       "- Better sustainability through optimized resource use.\n",
       "- Competitive advantage via faster, more reliable delivery.\n",
       "\n",
       "---\n",
       "\n",
       "Exploring an Agentic AI solution for supply chain and logistics could unlock substantial value by enabling intelligent, autonomous systems that manage complex operations end-to-end."
      ],
      "text/plain": [
       "<IPython.core.display.Markdown object>"
      ]
     },
     "metadata": {},
     "output_type": "display_data"
    }
   ],
   "source": [
    "# First create the messages:\n",
    "\n",
    "messages = [{\"role\": \"user\", \"content\": \"pick a business area that might be worth exploring for an Agentic AI opportunity\"}]\n",
    "\n",
    "# Then make the first call:\n",
    "\n",
    "response = openai.chat.completions.create(\n",
    "    model=\"gpt-4.1-mini\",\n",
    "    messages=messages\n",
    ")\n",
    "\n",
    "# Then read the business idea:\n",
    "\n",
    "business_idea = response.choices[0].message.content\n",
    "\n",
    "display(Markdown(business_idea))\n",
    "# And repeat! In the next message, include the business idea within the message"
   ]
  },
  {
   "cell_type": "code",
   "execution_count": 17,
   "metadata": {},
   "outputs": [
    {
     "data": {
      "text/markdown": [
       "Certainly! Here are some key pain points and challenges in the **Supply Chain and Logistics** industry that make it ripe for an Agentic AI solution:\n",
       "\n",
       "---\n",
       "\n",
       "### Key Pain Points in Supply Chain and Logistics\n",
       "\n",
       "1. **Demand Forecasting Uncertainty**\n",
       "   - Traditional forecasting methods often fail to predict sudden market shifts, seasonal fluctuations, or disruptive events (e.g., pandemics, geopolitical crises).\n",
       "   - Inaccurate forecasts lead to either overstocking (tying up capital and increasing storage costs) or stockouts (lost sales and dissatisfied customers).\n",
       "   - Multiple disparate data sources make it difficult to form a coherent, actionable forecast quickly.\n",
       "\n",
       "2. **Inventory Management Complexity**\n",
       "   - Balancing inventory levels across multiple warehouses and retail locations is complicated by varying lead times, demand volatility, and supplier reliability.\n",
       "   - Manual or semi-automated inventory management systems lack adaptability and struggle to optimize stock placement in real-time.\n",
       "   - Excess or obsolete inventory causes waste, while insufficient inventory damages customer trust.\n",
       "\n",
       "3. **Transportation and Routing Inefficiencies**\n",
       "   - Route planning is a complex combinatorial problem with many constraints: delivery deadlines, vehicle capacity, traffic conditions, weather, and regulatory restrictions.\n",
       "   - Real-time disruptions (accidents, delays, rerouted shipments) require dynamic rescheduling and rerouting which is difficult without automated systems.\n",
       "   - Inefficient routing increases fuel consumption, costs, and carbon footprint.\n",
       "\n",
       "4. **Supplier and Vendor Coordination Challenges**\n",
       "   - Multiple stakeholders with differing priorities must be coordinated: suppliers, manufacturers, logistics providers, and retailers.\n",
       "   - Negotiation of contracts, pricing, and lead times is often manual and slow, incapable of responding swiftly to changing conditions.\n",
       "   - Lack of transparency and trust can lead to delays, disputes, and suboptimal procurement decisions.\n",
       "\n",
       "5. **Visibility and Traceability Gaps**\n",
       "   - Many supply chains suffer from lack of end-to-end visibility, often due to siloed systems and poor data integration.\n",
       "   - Inability to track shipments and inventory status in real-time limits proactive management of risks.\n",
       "   - Reduced responsiveness to crises (e.g., recalls, customs delays).\n",
       "\n",
       "6. **Scalability and Complexity in Global Networks**\n",
       "   - Expanding supply chains cross multiple time zones, legal jurisdictions, and transportation modes.\n",
       "   - Managing complexity manually becomes exponentially harder, leading to increased errors and inefficiencies.\n",
       "   - Integration of various legacy IT systems and varying standards complicates automation efforts.\n",
       "\n",
       "7. **Resilience Against Disruptions**\n",
       "   - External shocks (natural disasters, political turmoil, pandemics) expose fragility in supply chains.\n",
       "   - Lack of agility to rapidly pivot to alternative suppliers, routes, or inventory buffers increases downtime and cost.\n",
       "   - Contingency planning is often offline and cannot respond automatically.\n",
       "\n",
       "---\n",
       "\n",
       "### Why These Pain Points Are Ripe for Agentic AI Solutions\n",
       "\n",
       "- **Autonomous, Real-Time Decision Making:** Agentic AI can monitor dynamic conditions continuously and make rapid adjustments (reroute, reorder, renegotiate) without waiting for human instruction.\n",
       "- **Complex Multi-Variable Optimization:** AI agents excel at managing multi-objective problems (cost vs speed vs risk) with constantly changing constraints.\n",
       "- **Proactive Risk Prediction and Mitigation:** Instead of reactive management, AI can forecast disruptions early and implement contingency plans autonomously.\n",
       "- **Cross-Functional Coordination:** Agentic AI can act as a centralized decision-maker, facilitating seamless collaboration among diverse stakeholders with automated negotiation and contract adjustments.\n",
       "- **Learning and Adaptation:** Over time, AI agents improve by learning from outcomes, enabling ongoing performance improvements even in highly complex, uncertain environments.\n",
       "- **Scalable Automation:** Solutions can be deployed incrementally, from individual facilities to entire global networks, matching the growth and complexity of the business.\n",
       "\n",
       "---\n",
       "\n",
       "### Summary\n",
       "\n",
       "In summary, the supply chain and logistics sector faces entrenched pain points revolving around uncertainty, complexity, and inefficiency in forecasting, inventory, routing, coordination, and resilience. These challenges demand smart, autonomous, and adaptive solutions — the exact capabilities offered by agentic AI. Implementing such systems could unlock significant cost savings, improve service quality, and build highly agile and sustainable supply networks fit for the future of global commerce."
      ],
      "text/plain": [
       "<IPython.core.display.Markdown object>"
      ]
     },
     "metadata": {},
     "output_type": "display_data"
    }
   ],
   "source": [
    "# First create the messages:\n",
    "\n",
    "messages = [{\"role\": \"user\", \"content\": f\"Here is a business Idea. Present the pain-points in that industry - something challenging that might be ripe for an Agentic solution. {business_idea}\"}]\n",
    "\n",
    "# Then make the first call:\n",
    "\n",
    "response = openai.chat.completions.create(\n",
    "    model=\"gpt-4.1-mini\",\n",
    "    messages=messages\n",
    ")\n",
    "\n",
    "# Then read the business idea:\n",
    "\n",
    "pain_points = response.choices[0].message.content\n",
    "\n",
    "display(Markdown(pain_points))\n",
    "# And repeat! In the next message, include the business idea within the message"
   ]
  },
  {
   "cell_type": "code",
   "execution_count": 18,
   "metadata": {},
   "outputs": [
    {
     "data": {
      "text/markdown": [
       "Certainly! Below is a detailed **Agentic AI solution proposal** tailored to address the key pain points in Supply Chain and Logistics, leveraging the capabilities and strengths of autonomous AI agents at scale.\n",
       "\n",
       "---\n",
       "\n",
       "## Proposed Agentic AI Solution for Supply Chain and Logistics Optimization\n",
       "\n",
       "### 1. **Overview**\n",
       "\n",
       "Develop a modular, multi-agent AI platform—**SupplyChainAgent™**—comprising specialized autonomous agents working collaboratively to optimize forecasting, inventory, routing, negotiations, and resilience in real-time. The platform integrates disparate data sources and legacy systems and continuously learns and adapts to dynamic environments.\n",
       "\n",
       "---\n",
       "\n",
       "### 2. **Core Components and Agent Types**\n",
       "\n",
       "| Agent Type                    | Primary Function                                                          | Pain Points Addressed                                   |\n",
       "|------------------------------|---------------------------------------------------------------------------|---------------------------------------------------------|\n",
       "| **Forecasting Agent**         | Real-time demand forecasting by ingesting multi-source data (sales, market trends, social media, macroeconomic data, IoT sensor inputs). Uses advanced probabilistic models and anomaly detection. | Demand Forecasting Uncertainty                          |\n",
       "| **Inventory Optimization Agent** | Dynamic inventory management using reinforcement learning to balance stock levels across locations, accounting for lead times, demand volatility, and supplier reliability. | Inventory Management Complexity                          |\n",
       "| **Routing and Logistics Agent**     | Solves vehicle routing problems with constraints (delivery windows, traffic, weather, capacity), performs dynamic re-routing and scheduling using real-time feeds and predictive analytics. | Transportation and Routing Inefficiencies                |\n",
       "| **Supplier Negotiation Agent** | Autonomous negotiation with suppliers using NLP-enabled contract understanding and generative negotiation techniques to adjust prices, lead times, and terms dynamically based on supply-demand conditions. | Supplier and Vendor Coordination Challenges             |\n",
       "| **Visibility and Traceability Agent** | Provides unified real-time end-to-end supply chain visibility by integrating IoT, GPS, blockchain for trust, and other data layers; alerts on anomalies and disruptions proactively. | Visibility and Traceability Gaps                         |\n",
       "| **Resilience and Risk Management Agent** | Continuously monitors global risk factors, predicts disruptions, runs contingency simulations, and autonomously activates backup plans (alternative suppliers, rerouting, safety stock adjustments). | Resilience Against Disruptions                           |\n",
       "| **Integration and Orchestration Agent** | Acts as the central coordinator, facilitating communication between agents, data normalization, and interfacing with human dashboards and legacy systems. | Scalability and Complexity in Global Networks           |\n",
       "\n",
       "---\n",
       "\n",
       "### 3. **Key Functionalities**\n",
       "\n",
       "#### a) **Autonomous, Proactive Forecasting**\n",
       "- Fuse data streams including market news, weather forecasts, social sentiment, competitor actions.\n",
       "- Detect early signals of disruptions or demand surges.\n",
       "- Provide confidence intervals and scenario analysis to guide inventory and logistics decisions.\n",
       "\n",
       "#### b) **Adaptive Inventory Management**\n",
       "- Transfer inventory dynamically across warehouses to meet demand fluctuations.\n",
       "- Optimize reorder points and quantities via learning algorithms tuned to minimize costs and stockouts.\n",
       "- Recommend or enact inventory write-offs or redeployments to reduce waste.\n",
       "\n",
       "#### c) **Dynamic Routing Optimization**\n",
       "- Continuously recalculate optimal routes considering real-time traffic, vehicle availability, and fuel costs.\n",
       "- Automatically generate contingency plans for delayed shipments or vehicle breakdowns.\n",
       "- Reduce carbon footprint by optimizing fuel usage and loads.\n",
       "\n",
       "#### d) **Automated Supplier Interaction**\n",
       "- Generate and evaluate supplier bids autonomously.\n",
       "- Adjust contracts using AI-driven negotiation strategies to exploit opportunities on prices and lead times.\n",
       "- Manage contract compliance, renewing, or terminating autonomously.\n",
       "\n",
       "#### e) **End-to-End Supply Chain Visibility**\n",
       "- Create a dashboard consolidating inventory, shipments, production plans, and vendor statuses.\n",
       "- Employ distributed ledger technologies for immutable traceability.\n",
       "- Enable instant alerts and recommendations on anomalies or delays.\n",
       "\n",
       "#### f) **Resilience through Risk Monitoring and Mitigation**\n",
       "- Model “what-if” disruption scenarios using digital twins of the supply chain.\n",
       "- Auto-trigger switching to alternative routes, suppliers, or safety stock policies.\n",
       "- Detect geopolitical, climate-related, or cyber risks early.\n",
       "\n",
       "#### g) **Scalable Multi-Agent Coordination**\n",
       "- Orchestrate operations across global supply chains with minimal human supervision.\n",
       "- Provide transparent audit trails and human overrides for critical decisions.\n",
       "- Seamlessly integrate with ERP, TMS, WMS systems via APIs and adapters.\n",
       "\n",
       "---\n",
       "\n",
       "### 4. **Technical Architecture**\n",
       "\n",
       "- **Data Layer:** Aggregate and normalize structured (ERP/WMS/TMS data), semi-structured (contracts, emails), and unstructured data (news, social media).\n",
       "- **Multi-Agent AI Core:** Each specialized agent runs as a microservice with dedicated ML models, coordinating via a message bus (e.g., Kafka).\n",
       "- **Knowledge Graph:** Shared ontology and supply chain domain knowledge base underpin reasoning and data linking.\n",
       "- **Human-in-the-Loop Interface:** Operations dashboards and alert systems allow managers oversight and intervention when needed.\n",
       "- **Cloud-Native and Edge-Enabled:** Cloud scalability combined with edge AI for real-time local decisions at warehouses or vehicles.\n",
       "- **Security and Compliance:** End-to-end encryption, role-based access, and compliance with global data and logistics regulations.\n",
       "\n",
       "---\n",
       "\n",
       "### 5. **Business Impact & KPIs**\n",
       "\n",
       "| Impact Area                     | Expected Outcomes                                 | Metrics to Track                                |\n",
       "|--------------------------------|-------------------------------------------------|------------------------------------------------|\n",
       "| **Cost Reduction**              | Lower inventory holding, transport, and penalties costs | Inventory turnover, transportation cost/unit  |\n",
       "| **Service Reliability**         | Improve on-time deliveries and order fulfillment rates | On-time delivery %, order fill rate             |\n",
       "| **Risk Mitigation**             | Reduce downtime and supply disruption impacts   | Disruption frequency/duration, recovery time  |\n",
       "| **Operational Efficiency**     | Increase routing efficiency, reduce manual labor | Route optimality, labor hours saved             |\n",
       "| **Sustainability**              | Lower emissions and waste across supply chain   | CO₂ emissions per shipment, waste volume       |\n",
       "| **Supplier Performance**       | Improved vendor lead times and pricing agility  | Supplier SLAs met %, negotiated cost savings   |\n",
       "\n",
       "---\n",
       "\n",
       "### 6. **Roadmap for Deployment**\n",
       "\n",
       "| Phase                      | Objectives                                          | Milestones                                    |\n",
       "|----------------------------|----------------------------------------------------|-----------------------------------------------|\n",
       "| **Phase 1: Pilot**          | Target a regional distribution center              | Deploy Forecasting + Inventory Agents; assess ROI |\n",
       "| **Phase 2: Multi-Agent Coordination** | Onboard Routing and Supplier Agents               | Integrate agents; begin multi-agent orchestration  |\n",
       "| **Phase 3: End-to-End Global Rollout** | Expand to global networks and resilience modules   | Full platform deployment; realtime visibility dashboard |\n",
       "| **Phase 4: Continuous Learning & Optimization** | Incorporate feedback, advanced negotiation, and risk modeling | Automated improvements; continuous cost and service optimization |\n",
       "\n",
       "---\n",
       "\n",
       "### 7. **Competitive Differentiators**\n",
       "\n",
       "- True autonomous agents capable of proactive, multi-objective optimization rather than reactive analytics.\n",
       "- End-to-end focus combining forecasting, inventory, logistics, supplier management.\n",
       "- Modular microservices architecture designed for rapid integration and scalability.\n",
       "- Advanced negotiation capabilities to dynamically reshape supplier contracts.\n",
       "- Built-in risk resilience leveraging digital twin simulations and AI-driven contingency activation.\n",
       "\n",
       "---\n",
       "\n",
       "## Summary\n",
       "\n",
       "SupplyChainAgent™ is an innovative **Agentic AI platform** designed to tackle the perennial complexity and unpredictability of supply chain and logistics operations through real-time, autonomous multi-agent decision making. By jointly optimizing demand forecasts, inventory, routing, supplier negotiations, and disruption resilience, it offers transformative cost savings, service improvements, and sustainability benefits.\n",
       "\n",
       "This approach moves beyond conventional optimization tools by embedding self-directed intelligence and negotiation into the core of supply chain management — empowering businesses to react dynamically and confidently to an increasingly volatile global marketplace.\n",
       "\n",
       "---\n",
       "\n",
       "If you want, I can help detail any specific component or draft a strategic plan for development and go-to-market."
      ],
      "text/plain": [
       "<IPython.core.display.Markdown object>"
      ]
     },
     "metadata": {},
     "output_type": "display_data"
    }
   ],
   "source": [
    "# First create the messages:\n",
    "\n",
    "messages = [{\"role\": \"user\", \"content\": f\"Here is a business Idea and the pain-points in that industry. Propose the Agentic AI solution. Business Idea: {business_idea}. \\nPain Points: {pain_points}\"}]\n",
    "\n",
    "# Then make the first call:\n",
    "\n",
    "response = openai.chat.completions.create(\n",
    "    model=\"gpt-4.1-mini\",\n",
    "    messages=messages\n",
    ")\n",
    "\n",
    "# Then read the business idea:\n",
    "\n",
    "solution = response.choices[0].message.content\n",
    "\n",
    "display(Markdown(solution))\n",
    "# And repeat! In the next message, include the business idea within the message"
   ]
  },
  {
   "cell_type": "markdown",
   "metadata": {},
   "source": []
  }
 ],
 "metadata": {
  "kernelspec": {
   "display_name": "agents (3.12.11)",
   "language": "python",
   "name": "python3"
  },
  "language_info": {
   "codemirror_mode": {
    "name": "ipython",
    "version": 3
   },
   "file_extension": ".py",
   "mimetype": "text/x-python",
   "name": "python",
   "nbconvert_exporter": "python",
   "pygments_lexer": "ipython3",
   "version": "3.12.11"
  }
 },
 "nbformat": 4,
 "nbformat_minor": 2
}
